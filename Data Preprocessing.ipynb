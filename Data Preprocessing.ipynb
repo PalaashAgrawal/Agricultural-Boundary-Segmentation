{
 "cells": [
  {
   "cell_type": "code",
   "execution_count": 1,
   "metadata": {},
   "outputs": [
    {
     "name": "stdout",
     "output_type": "stream",
     "text": [
      "Requirement already satisfied: fastai in /opt/conda/lib/python3.7/site-packages (1.0.60)\n",
      "Requirement already satisfied: bottleneck in /opt/conda/lib/python3.7/site-packages (from fastai) (1.3.2)\n",
      "Requirement already satisfied: fastprogress>=0.2.1 in /opt/conda/lib/python3.7/site-packages (from fastai) (0.2.2)\n",
      "Requirement already satisfied: beautifulsoup4 in /opt/conda/lib/python3.7/site-packages (from fastai) (4.8.2)\n",
      "Requirement already satisfied: matplotlib in /opt/conda/lib/python3.7/site-packages (from fastai) (3.1.3)\n",
      "Requirement already satisfied: numexpr in /opt/conda/lib/python3.7/site-packages (from fastai) (2.7.1)\n",
      "Requirement already satisfied: numpy>=1.15 in /opt/conda/lib/python3.7/site-packages (from fastai) (1.18.2)\n",
      "Requirement already satisfied: nvidia-ml-py3 in /opt/conda/lib/python3.7/site-packages (from fastai) (7.352.0)\n",
      "Requirement already satisfied: pandas in /opt/conda/lib/python3.7/site-packages (from fastai) (1.0.3)\n",
      "Requirement already satisfied: packaging in /opt/conda/lib/python3.7/site-packages (from fastai) (20.3)\n",
      "Requirement already satisfied: Pillow in /opt/conda/lib/python3.7/site-packages (from fastai) (7.0.0)\n",
      "Requirement already satisfied: pyyaml in /opt/conda/lib/python3.7/site-packages (from fastai) (5.3.1)\n",
      "Requirement already satisfied: requests in /opt/conda/lib/python3.7/site-packages (from fastai) (2.23.0)\n",
      "Requirement already satisfied: scipy in /opt/conda/lib/python3.7/site-packages (from fastai) (1.4.1)\n",
      "Requirement already satisfied: torch>=1.0.0 in /opt/conda/lib/python3.7/site-packages (from fastai) (1.4.0)\n",
      "Requirement already satisfied: spacy>=2.0.18 in /opt/conda/lib/python3.7/site-packages (from fastai) (2.1.8)\n",
      "Requirement already satisfied: torchvision in /opt/conda/lib/python3.7/site-packages (from fastai) (0.5.0)\n",
      "Requirement already satisfied: soupsieve>=1.2 in /opt/conda/lib/python3.7/site-packages (from beautifulsoup4->fastai) (2.0)\n",
      "Requirement already satisfied: kiwisolver>=1.0.1 in /opt/conda/lib/python3.7/site-packages (from matplotlib->fastai) (1.1.0)\n",
      "Requirement already satisfied: python-dateutil>=2.1 in /opt/conda/lib/python3.7/site-packages (from matplotlib->fastai) (2.8.1)\n",
      "Requirement already satisfied: cycler>=0.10 in /opt/conda/lib/python3.7/site-packages (from matplotlib->fastai) (0.10.0)\n",
      "Requirement already satisfied: pyparsing!=2.0.4,!=2.1.2,!=2.1.6,>=2.0.1 in /opt/conda/lib/python3.7/site-packages (from matplotlib->fastai) (2.4.6)\n",
      "Requirement already satisfied: pytz>=2017.2 in /opt/conda/lib/python3.7/site-packages (from pandas->fastai) (2019.3)\n",
      "Requirement already satisfied: six in /opt/conda/lib/python3.7/site-packages (from packaging->fastai) (1.14.0)\n",
      "Requirement already satisfied: idna<3,>=2.5 in /opt/conda/lib/python3.7/site-packages (from requests->fastai) (2.9)\n",
      "Requirement already satisfied: urllib3!=1.25.0,!=1.25.1,<1.26,>=1.21.1 in /opt/conda/lib/python3.7/site-packages (from requests->fastai) (1.24.3)\n",
      "Requirement already satisfied: certifi>=2017.4.17 in /opt/conda/lib/python3.7/site-packages (from requests->fastai) (2020.4.5.1)\n",
      "Requirement already satisfied: chardet<4,>=3.0.2 in /opt/conda/lib/python3.7/site-packages (from requests->fastai) (3.0.4)\n",
      "Requirement already satisfied: preshed<2.1.0,>=2.0.1 in /opt/conda/lib/python3.7/site-packages (from spacy>=2.0.18->fastai) (2.0.1)\n",
      "Requirement already satisfied: cymem<2.1.0,>=2.0.2 in /opt/conda/lib/python3.7/site-packages (from spacy>=2.0.18->fastai) (2.0.2)\n",
      "Requirement already satisfied: blis<0.3.0,>=0.2.2 in /opt/conda/lib/python3.7/site-packages (from spacy>=2.0.18->fastai) (0.2.4)\n",
      "Requirement already satisfied: plac<1.0.0,>=0.9.6 in /opt/conda/lib/python3.7/site-packages (from spacy>=2.0.18->fastai) (0.9.6)\n",
      "Requirement already satisfied: srsly<1.1.0,>=0.0.6 in /opt/conda/lib/python3.7/site-packages (from spacy>=2.0.18->fastai) (0.1.0)\n",
      "Requirement already satisfied: wasabi<1.1.0,>=0.2.0 in /opt/conda/lib/python3.7/site-packages (from spacy>=2.0.18->fastai) (0.2.2)\n",
      "Requirement already satisfied: murmurhash<1.1.0,>=0.28.0 in /opt/conda/lib/python3.7/site-packages (from spacy>=2.0.18->fastai) (1.0.2)\n",
      "Requirement already satisfied: thinc<7.1.0,>=7.0.8 in /opt/conda/lib/python3.7/site-packages (from spacy>=2.0.18->fastai) (7.0.8)\n",
      "Requirement already satisfied: setuptools in /opt/conda/lib/python3.7/site-packages (from kiwisolver>=1.0.1->matplotlib->fastai) (46.1.1.post20200323)\n",
      "Requirement already satisfied: tqdm<5.0.0,>=4.10.0 in /opt/conda/lib/python3.7/site-packages (from thinc<7.1.0,>=7.0.8->spacy>=2.0.18->fastai) (4.43.0)\n"
     ]
    }
   ],
   "source": [
    "!pip install fastai\n",
    "from fastai import *\n",
    "from fastai.vision import *\n",
    "# from fastai.callbacks.hooks import *\n",
    "from fastai.utils.mem import *\n",
    "from PIL import Image\n",
    "from torchvision import transforms"
   ]
  },
  {
   "cell_type": "code",
   "execution_count": 2,
   "metadata": {},
   "outputs": [],
   "source": [
    "import os\n",
    "from pathlib import Path\n",
    "import PIL.Image as PilImage"
   ]
  },
  {
   "cell_type": "code",
   "execution_count": null,
   "metadata": {},
   "outputs": [],
   "source": [
    "#for Google Colab only\n",
    "# from google.colab import drive\n",
    "# drive.mount('/content/drive')"
   ]
  },
  {
   "cell_type": "code",
   "execution_count": 3,
   "metadata": {},
   "outputs": [
    {
     "name": "stdout",
     "output_type": "stream",
     "text": [
      "Archive:  data.zip\n",
      "   creating: project_Agri/bin_masks/\n",
      "   creating: project_Agri/masks/\n",
      "  inflating: project_Agri/labeled images/Copy of _04_05.bmp  \n",
      "  inflating: project_Agri/labeled images/Copy of _04_15.bmp  \n",
      "  inflating: project_Agri/labeled images/Copy of _04_08.bmp  \n",
      "  inflating: project_Agri/images_green/Copy of _18_18.bmp  \n",
      "  inflating: project_Agri/images_brown/Copy of _02_03.bmp  \n",
      "  inflating: project_Agri/labeled images/Copy of _02_11.bmp  \n",
      "  inflating: project_Agri/images_green/Copy of _18_01.bmp  \n",
      "  inflating: project_Agri/labeled images/Copy of _03_04.bmp  \n",
      "  inflating: project_Agri/labeled images/Copy of _01_10.bmp  \n",
      "  inflating: project_Agri/labeled images/Copy of _02_03.bmp  \n",
      "  inflating: project_Agri/labeled images/Copy of _18_01.bmp  \n",
      "  inflating: project_Agri/labeled images/Copy of _02_14.bmp  \n",
      "  inflating: project_Agri/labeled images/Copy of _13_19.bmp  \n",
      "  inflating: project_Agri/images_brown/Copy of _02_14.bmp  \n",
      "  inflating: project_Agri/labeled images/Copy of _01_17.bmp  \n",
      "  inflating: project_Agri/labeled images/Copy of _03_12.bmp  \n",
      "  inflating: project_Agri/labeled images/Copy of _20_19.bmp  \n",
      "  inflating: project_Agri/labeled images/Copy of _01_09.bmp  \n",
      "  inflating: project_Agri/labeled images/Copy of _03_02.bmp  \n",
      "  inflating: project_Agri/labeled images/Copy of _18_18.bmp  \n",
      "  inflating: project_Agri/labeled images/Copy of _02_12 .bmp  \n",
      "  inflating: project_Agri/labeled images/Copy of _20_16.bmp  \n",
      "  inflating: project_Agri/images_ndvi/Copy of _02_12.bmp  \n",
      "  inflating: project_Agri/labeled images/Copy of _19_17.bmp  \n",
      "  inflating: project_Agri/labeled images/Copy of _01_15.bmp  \n",
      "  inflating: project_Agri/images_brown/Copy of _04_15.bmp  \n",
      "  inflating: project_Agri/images_brown/Copy of _01_10.bmp  \n",
      "  inflating: project_Agri/Validation/green/Copy of _13_19.bmp  \n",
      "  inflating: project_Agri/images_green/Copy of _01_17.bmp  \n",
      "  inflating: project_Agri/images_brown/Copy of _03_12.bmp  \n",
      "  inflating: project_Agri/Validation/green/Copy of _13_09.bmp  \n",
      "  inflating: project_Agri/images_ndvi/Copy of _01_10.bmp  \n",
      "  inflating: project_Agri/images_ndvi/Copy of _04_15.bmp  \n",
      "  inflating: project_Agri/images_green/Copy of _04_08.bmp  \n",
      "  inflating: project_Agri/images_ndvi/Copy of _03_02.bmp  \n",
      "  inflating: project_Agri/Validation/brown/Copy of _13_07.bmp  \n",
      "  inflating: project_Agri/images_green/Copy of _04_15.bmp  \n",
      "  inflating: project_Agri/images_brown/Copy of _02_11.bmp  \n",
      "  inflating: project_Agri/images_brown/Copy of _03_02.bmp  \n",
      "  inflating: project_Agri/Validation/brown/Copy of _10_03.bmp  \n",
      "  inflating: project_Agri/images_brown/Copy of _04_08.bmp  \n",
      "  inflating: project_Agri/Validation/brown/Copy of _12_11.bmp  \n",
      "  inflating: project_Agri/Validation/brown/Copy of _13_02.bmp  \n",
      "  inflating: project_Agri/Validation/brown/Copy of _11_03.bmp  \n",
      "  inflating: project_Agri/Validation/brown/Copy of _10_18.bmp  \n",
      "  inflating: project_Agri/Validation/brown/Copy of _13_08.bmp  \n",
      "  inflating: project_Agri/Validation/brown/Copy of _12_17.bmp  \n",
      "  inflating: project_Agri/Validation/brown/Copy of _13_09.bmp  \n",
      "  inflating: project_Agri/images_ndvi/Copy of _20_19.bmp  \n",
      "  inflating: project_Agri/Validation/green/Copy of _13_08.bmp  \n",
      "  inflating: project_Agri/images_ndvi/Copy of _01_15.bmp  \n",
      "  inflating: project_Agri/images_ndvi/Copy of _02_11.bmp  \n",
      "  inflating: project_Agri/images_ndvi/Copy of _01_09.bmp  \n",
      "  inflating: project_Agri/images_brown/Copy of _18_01.bmp  \n",
      "  inflating: project_Agri/images_green/Copy of _02_11.bmp  \n",
      "  inflating: project_Agri/images_ndvi/Copy of _03_04.bmp  \n",
      "  inflating: project_Agri/images_green/Copy of _20_19.bmp  \n",
      "  inflating: project_Agri/images_ndvi/Copy of _18_01.bmp  \n",
      "  inflating: project_Agri/images_green/Copy of _02_03.bmp  \n",
      "  inflating: project_Agri/images_brown/Copy of _01_17.bmp  \n",
      "  inflating: project_Agri/Validation/ndvi/Copy of _13_08.bmp  \n",
      "  inflating: project_Agri/images_brown/Copy of _20_19.bmp  \n",
      "  inflating: project_Agri/Validation/green/Copy of _12_11.bmp  \n",
      "  inflating: project_Agri/images_ndvi/Copy of _20_16.bmp  \n",
      "  inflating: project_Agri/images_ndvi/Copy of _04_08.bmp  \n",
      "  inflating: project_Agri/Validation/ndvi/Copy of _11_03.bmp  \n",
      "  inflating: project_Agri/images_green/Copy of _03_04.bmp  \n",
      "  inflating: project_Agri/images_ndvi/Copy of _13_19.bmp  \n",
      "  inflating: project_Agri/images_green/Copy of _19_17.bmp  \n",
      "  inflating: project_Agri/Validation/ndvi/Copy of _13_19.bmp  \n",
      "  inflating: project_Agri/images_brown/Copy of _13_19.bmp  \n",
      "  inflating: project_Agri/Validation/green/Copy of _11_03.bmp  \n",
      "  inflating: project_Agri/images_ndvi/Copy of _18_18.bmp  \n",
      "  inflating: project_Agri/images_ndvi/Copy of _01_17.bmp  \n",
      "  inflating: project_Agri/images_green/Copy of _02_14.bmp  \n",
      "  inflating: project_Agri/Validation/ndvi/Copy of _12_17.bmp  \n",
      "  inflating: project_Agri/images_brown/Copy of _04_05.bmp  \n",
      "  inflating: project_Agri/images_brown/Copy of _01_15.bmp  \n",
      "  inflating: project_Agri/Validation/brown/Copy of _13_19.bmp  \n",
      "  inflating: project_Agri/images_brown/Copy of _03_04.bmp  \n",
      "  inflating: project_Agri/images_ndvi/Copy of _02_14.bmp  \n",
      "  inflating: project_Agri/images_brown/Copy of _19_17.bmp  \n",
      "  inflating: project_Agri/Validation/green/Copy of _10_03.bmp  \n",
      "  inflating: project_Agri/images_green/Copy of _13_09.bmp  \n",
      "  inflating: project_Agri/images_ndvi/Copy of _04_05.bmp  \n",
      "  inflating: project_Agri/Validation/green/Copy of _13_07.bmp  \n",
      "  inflating: project_Agri/images_green/Copy of _01_09.bmp  \n",
      "  inflating: project_Agri/images_brown/Copy of _18_18.bmp  \n",
      "  inflating: project_Agri/Validation/ndvi/Copy of _13_09.bmp  \n",
      "  inflating: project_Agri/images_green/Copy of _01_15.bmp  \n",
      "  inflating: project_Agri/images_ndvi/Copy of _19_17.bmp  \n",
      "  inflating: project_Agri/Validation/ndvi/Copy of _10_18.bmp  \n",
      "  inflating: project_Agri/images_brown/Copy of _02_12.bmp  \n",
      "  inflating: project_Agri/images_green/Copy of _04_05.bmp  \n",
      "  inflating: project_Agri/images_ndvi/Copy of _02_03.bmp  \n",
      "  inflating: project_Agri/images_green/Copy of _03_12.bmp  \n",
      "  inflating: project_Agri/images_brown/Copy of _20_16.bmp  \n",
      "  inflating: project_Agri/images_green/Copy of _02_12.bmp  \n",
      "  inflating: project_Agri/Validation/ndvi/Copy of _13_02.bmp  \n",
      "  inflating: project_Agri/Validation/ndvi/Copy of _10_03.bmp  \n",
      "  inflating: project_Agri/images_brown/Copy of _01_09.bmp  \n",
      "  inflating: project_Agri/Validation/ndvi/Copy of _13_07.bmp  \n",
      "  inflating: project_Agri/Validation/ndvi/Copy of _12_11.bmp  \n",
      "  inflating: project_Agri/images_green/Copy of _20_16.bmp  \n",
      "  inflating: project_Agri/Validation/green/Copy of _13_02.bmp  \n",
      "  inflating: project_Agri/images_green/Copy of _01_10.bmp  \n",
      "  inflating: project_Agri/Validation/green/Copy of _12_17.bmp  \n",
      "  inflating: project_Agri/Validation/green/Copy of _10_18.bmp  \n",
      "  inflating: project_Agri/images_ndvi/Copy of _03_12.bmp  \n",
      "  inflating: project_Agri/images_green/Copy of _03_02.bmp  \n"
     ]
    }
   ],
   "source": [
    "# !unzip data.zip\n",
    "##rename unzipped file as data"
   ]
  },
  {
   "cell_type": "markdown",
   "metadata": {},
   "source": [
    "### Uncomment as per platform used"
   ]
  },
  {
   "cell_type": "code",
   "execution_count": 4,
   "metadata": {},
   "outputs": [],
   "source": [
    "#for Colab\n",
    "# path=Path('/content/drive/My Drive/AI Stuff/project_Agri/') ## change <AI Stuff/... as per the location on drive>\n",
    "\n",
    "#for GCP\n",
    "path=Path('data') ## change 'data' as per relative location "
   ]
  },
  {
   "cell_type": "code",
   "execution_count": 5,
   "metadata": {},
   "outputs": [],
   "source": [
    "path_lbl = path/'labeled images'\n",
    "path_img = path/'images_ndvi' # change as per image type: ndvi, green, brown\n",
    "path_bm=path/'bin_masks'\n",
    "path_masks=path/'masks'"
   ]
  },
  {
   "cell_type": "markdown",
   "metadata": {},
   "source": [
    "### convert labeled images to binary images(B&W, 0/1 labels)"
   ]
  },
  {
   "cell_type": "code",
   "execution_count": 6,
   "metadata": {},
   "outputs": [],
   "source": [
    "list1=get_image_files(path_lbl)\n",
    "for path1 in list1:\n",
    "  a=Image.open(path1)\n",
    "  img=transforms.ToTensor()(a)\n",
    "  a=img[0].flatten()#red channel\n",
    "  b=[i>0.925 and i<0.93 for i in a] # red pixels are 0.9255 in red channel\n",
    "  c=tensor(b).float().reshape(522,522).unsqueeze(0)\n",
    "  # mask=PILMask.create(c)\n",
    "  mask=transforms.ToPILImage()(c)\n",
    "  stri=str(path1).split('/')[-1]\n",
    "  mask.save(fp=path_bm/stri)"
   ]
  },
  {
   "cell_type": "code",
   "execution_count": 7,
   "metadata": {},
   "outputs": [],
   "source": [
    "def getClassValues(label_names):\n",
    "\n",
    "    containedValues = set([])\n",
    "\n",
    "    for i in range(len(label_names)):\n",
    "        tmp = open_mask(label_names[i])\n",
    "        tmp = tmp.data.numpy().flatten()\n",
    "        tmp = set(tmp)\n",
    "        containedValues = containedValues.union(tmp)\n",
    "        # print(type(containedValues))\n",
    "    return list(containedValues)\n",
    "\n",
    "def replaceMaskValuesFromZeroToN(mask, \n",
    "                                 containedValues):\n",
    "\n",
    "    numberOfClasses = len(containedValues)\n",
    "    newMask = np.zeros(mask.shape)\n",
    "\n",
    "    for i in range(numberOfClasses):\n",
    "        newMask[mask == containedValues[i]] = i\n",
    "    \n",
    "    return newMask\n",
    "\n",
    "def convertMaskToPilAndSave(mask, \n",
    "                            saveTo,format='bmp'):\n",
    "\n",
    "    imageSize = mask.squeeze().shape\n",
    "\n",
    "    im = PilImage.new('L',(imageSize[1],imageSize[0]))\n",
    "    im.putdata(mask.astype('uint8').ravel())\n",
    "    im.save(saveTo,format=format)\n",
    "\n",
    "def convertMasksToGrayscaleZeroToN(pathToLabels,saveToPath):\n",
    "    label_names = get_image_files(pathToLabels)\n",
    "    containedValues = getClassValues(label_names)\n",
    "\n",
    "    for currentFile in label_names:\n",
    "        currentMask = open_mask(currentFile).data.numpy()\n",
    "        convertedMask = replaceMaskValuesFromZeroToN(currentMask, containedValues)\n",
    "        convertMaskToPilAndSave(convertedMask, saveToPath/f'{currentFile.name}')\n",
    "    \n",
    "    print('Conversion finished!')"
   ]
  },
  {
   "cell_type": "markdown",
   "metadata": {},
   "source": [
    "### Convert B&W images (pixel values 0 and 255) to Grayscale images (values 0,1, 2 and so on)"
   ]
  },
  {
   "cell_type": "code",
   "execution_count": 8,
   "metadata": {},
   "outputs": [
    {
     "name": "stdout",
     "output_type": "stream",
     "text": [
      "Conversion finished!\n"
     ]
    }
   ],
   "source": [
    "convertMasksToGrayscaleZeroToN(path_bm, path_masks)"
   ]
  },
  {
   "cell_type": "code",
   "execution_count": null,
   "metadata": {},
   "outputs": [],
   "source": []
  }
 ],
 "metadata": {
  "kernelspec": {
   "display_name": "Python 3",
   "language": "python",
   "name": "python3"
  },
  "language_info": {
   "codemirror_mode": {
    "name": "ipython",
    "version": 3
   },
   "file_extension": ".py",
   "mimetype": "text/x-python",
   "name": "python",
   "nbconvert_exporter": "python",
   "pygments_lexer": "ipython3",
   "version": "3.7.6"
  }
 },
 "nbformat": 4,
 "nbformat_minor": 4
}
