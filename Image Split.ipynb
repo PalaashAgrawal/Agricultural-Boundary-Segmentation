{
 "cells": [
  {
   "cell_type": "markdown",
   "metadata": {},
   "source": [
    "## to split large resolution images in smaller chunks\n",
    "### original images are 10980x10980 images. Split them into 21x21 tiles to get 522x522 images"
   ]
  },
  {
   "cell_type": "code",
   "execution_count": 0,
   "metadata": {
    "colab": {
     "base_uri": "https://localhost:8080/",
     "height": 120
    },
    "colab_type": "code",
    "executionInfo": {
     "elapsed": 29599,
     "status": "ok",
     "timestamp": 1591298093291,
     "user": {
      "displayName": "Palaash Agrawal",
      "photoUrl": "",
      "userId": "14092624846881849773"
     },
     "user_tz": -240
    },
    "id": "I74BrHHBBdy_",
    "outputId": "32afab1a-a128-4329-b575-5cd62a5e93da"
   },
   "outputs": [
    {
     "name": "stdout",
     "output_type": "stream",
     "text": [
      "Go to this URL in a browser: https://accounts.google.com/o/oauth2/auth?client_id=947318989803-6bn6qk8qdgf4n4g3pfee6491hc0brc4i.apps.googleusercontent.com&redirect_uri=urn%3aietf%3awg%3aoauth%3a2.0%3aoob&response_type=code&scope=email%20https%3a%2f%2fwww.googleapis.com%2fauth%2fdocs.test%20https%3a%2f%2fwww.googleapis.com%2fauth%2fdrive%20https%3a%2f%2fwww.googleapis.com%2fauth%2fdrive.photos.readonly%20https%3a%2f%2fwww.googleapis.com%2fauth%2fpeopleapi.readonly\n",
      "\n",
      "Enter your authorization code:\n",
      "··········\n",
      "Mounted at /content/drive\n"
     ]
    }
   ],
   "source": [
    "#for Colab only\n",
    "# from google.colab import drive\n",
    "# drive.mount('/content/drive')"
   ]
  },
  {
   "cell_type": "code",
   "execution_count": 0,
   "metadata": {
    "colab": {
     "base_uri": "https://localhost:8080/",
     "height": 120
    },
    "colab_type": "code",
    "executionInfo": {
     "elapsed": 7858,
     "status": "ok",
     "timestamp": 1591298138651,
     "user": {
      "displayName": "Palaash Agrawal",
      "photoUrl": "",
      "userId": "14092624846881849773"
     },
     "user_tz": -240
    },
    "id": "WQbgJCn-_M5X",
    "outputId": "cf5d250b-0edd-4e80-c348-d41cdb1cda54"
   },
   "outputs": [
    {
     "name": "stdout",
     "output_type": "stream",
     "text": [
      "Collecting image_slicer\n",
      "  Downloading https://files.pythonhosted.org/packages/d6/1e/6afd4b8c88f888fb7b909b02c102709c413d0dd1ed9047914002b87bc6b9/image_slicer-0.3.0-py3-none-any.whl\n",
      "Requirement already satisfied: Pillow>=4.0.0 in /usr/local/lib/python3.6/dist-packages (from image_slicer) (7.0.0)\n",
      "Installing collected packages: image-slicer\n",
      "Successfully installed image-slicer-0.3.0\n"
     ]
    }
   ],
   "source": [
    "from pathlib import Path\n",
    "!pip install image_slicer\n",
    "import image_slicer\n",
    "import torch"
   ]
  },
  {
   "cell_type": "code",
   "execution_count": 0,
   "metadata": {
    "colab": {
     "base_uri": "https://localhost:8080/",
     "height": 53
    },
    "colab_type": "code",
    "executionInfo": {
     "elapsed": 4473,
     "status": "ok",
     "timestamp": 1591298141288,
     "user": {
      "displayName": "Palaash Agrawal",
      "photoUrl": "",
      "userId": "14092624846881849773"
     },
     "user_tz": -240
    },
    "id": "xHGzmkI4_Nrl",
    "outputId": "baa5a0b2-98d0-4a39-d0e3-67c2e60486e2"
   },
   "outputs": [
    {
     "name": "stdout",
     "output_type": "stream",
     "text": [
      "/bin/bash: line 0: cd: /content/drive/My Drive/AI Stuff/Agricultural segmentation/UP/NDVI: No such file or directory\n"
     ]
    }
   ],
   "source": [
    "# !cd /content/drive/My\\ Drive/AI\\ Stuff/Agricultural\\ segmentation/UP/NDVI && ls"
   ]
  },
  {
   "cell_type": "markdown",
   "metadata": {},
   "source": [
    "### change as per platform"
   ]
  },
  {
   "cell_type": "code",
   "execution_count": 0,
   "metadata": {
    "colab": {},
    "colab_type": "code",
    "id": "5QgYRyow_ZUZ"
   },
   "outputs": [],
   "source": [
    "#for Colab\n",
    "# path=Path('/content/drive/My Drive/AI Stuff/Agricultural segmentation/UP/')"
   ]
  },
  {
   "cell_type": "code",
   "execution_count": 0,
   "metadata": {
    "colab": {
     "base_uri": "https://localhost:8080/",
     "height": 70
    },
    "colab_type": "code",
    "executionInfo": {
     "elapsed": 16892,
     "status": "ok",
     "timestamp": 1591298156470,
     "user": {
      "displayName": "Palaash Agrawal",
      "photoUrl": "",
      "userId": "14092624846881849773"
     },
     "user_tz": -240
    },
    "id": "cIUeGog3Aadc",
    "outputId": "5c1f0306-e532-41ff-ceda-aa752cb1dee5"
   },
   "outputs": [
    {
     "name": "stderr",
     "output_type": "stream",
     "text": [
      "/usr/local/lib/python3.6/dist-packages/PIL/Image.py:2766: DecompressionBombWarning: Image size (120560400 pixels) exceeds limit of 89478485 pixels, could be decompression bomb DOS attack.\n",
      "  DecompressionBombWarning,\n"
     ]
    }
   ],
   "source": [
    "img_ndvi=image_slicer.slice(path/'data/NDVI.bmp',441,save=False)\n",
    "img_green=image_slicer.slice(path/'data/green/image.bmp',441,save=False)\n",
    "img_brown=image_slicer.slice(path/'data/brown/image.bmp',441,save=False)"
   ]
  },
  {
   "cell_type": "code",
   "execution_count": 0,
   "metadata": {
    "colab": {},
    "colab_type": "code",
    "id": "1aQxRZOh9umF"
   },
   "outputs": [],
   "source": [
    "img_ndvi"
   ]
  },
  {
   "cell_type": "code",
   "execution_count": 0,
   "metadata": {
    "colab": {},
    "colab_type": "code",
    "id": "MAaO1TOegMzF"
   },
   "outputs": [],
   "source": [
    "a_ndvi=list(img_ndvi)\n",
    "a_green=list(img_green)\n",
    "a_brown=list(img_brown)\n",
    "idx=torch.randperm(441)\n",
    "b_ndvi=[a_ndvi[i] for i in idx[:50]]\n",
    "b_green=[a_green[i] for i in idx[:50]]\n",
    "b_brown=[a_brown[i] for i in idx[:50]]\n",
    "c_ndvi=tuple(b_ndvi)\n",
    "c_green=tuple(b_green)\n",
    "c_brown=tuple(b_brown)"
   ]
  },
  {
   "cell_type": "code",
   "execution_count": 0,
   "metadata": {
    "colab": {},
    "colab_type": "code",
    "id": "Idtbll2AIIdC"
   },
   "outputs": [],
   "source": [
    "image_slicer.save_tiles(c_ndvi, directory=Path(path/'images/NDVI'), format='bmp')\n",
    "image_slicer.save_tiles(c_green, directory=Path(path/'images/green'), format='bmp')\n",
    "image_slicer.save_tiles(c_brown, directory=Path(path/'images/brown'), format='bmp') "
   ]
  },
  {
   "cell_type": "code",
   "execution_count": 0,
   "metadata": {
    "colab": {},
    "colab_type": "code",
    "id": "jD0EzDmUg-wo"
   },
   "outputs": [],
   "source": []
  }
 ],
 "metadata": {
  "colab": {
   "authorship_tag": "ABX9TyNjkYKM4PLjA1ldSOsvxQdZ",
   "collapsed_sections": [],
   "name": "AgriSeg: Data split.ipynb",
   "provenance": []
  },
  "kernelspec": {
   "display_name": "Python 3",
   "language": "python",
   "name": "python3"
  },
  "language_info": {
   "codemirror_mode": {
    "name": "ipython",
    "version": 3
   },
   "file_extension": ".py",
   "mimetype": "text/x-python",
   "name": "python",
   "nbconvert_exporter": "python",
   "pygments_lexer": "ipython3",
   "version": "3.7.6"
  }
 },
 "nbformat": 4,
 "nbformat_minor": 1
}
